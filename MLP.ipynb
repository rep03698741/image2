{
 "cells": [
  {
   "cell_type": "code",
   "execution_count": 1,
   "metadata": {},
   "outputs": [
    {
     "name": "stderr",
     "output_type": "stream",
     "text": [
      "Using TensorFlow backend.\n"
     ]
    }
   ],
   "source": [
    "import numpy as np\n",
    "import keras\n",
    "from keras.models import Sequential\n",
    "from keras.layers import Dense,Dropout\n",
    "from keras.utils import to_categorical\n",
    "import cv2\n",
    "import os\n",
    "from keras import backend as K\n",
    "import tensorflow as tf\n",
    "from sklearn.neural_network import MLPClassifier"
   ]
  },
  {
   "cell_type": "code",
   "execution_count": 2,
   "metadata": {},
   "outputs": [],
   "source": [
    "def openfile(file):\n",
    "    f = open(file,\"r\", encoding='utf-8')\n",
    "    lines = f.readlines()\n",
    "    image_paths=[]  \n",
    "    image_classes=[]\n",
    "    for line in lines:\n",
    "        curLine=line.strip().split(\" \")\n",
    "        image_paths.append(curLine[0]) \n",
    "        image_classes.append(curLine[-1])\n",
    "    time=1\n",
    "    allt=len(image_paths)\n",
    "    ims = []\n",
    "    print(\"loading images\")\n",
    "    for image_path in image_paths:\n",
    "        img  = cv2.imread(image_path)\n",
    "        img=cv2.cvtColor(img,cv2.COLOR_BGR2GRAY)\n",
    "        img=cv2.resize(img,(64,64),interpolation=cv2.INTER_CUBIC)\n",
    "        ims.append(img)\n",
    "        print(str(time)+\"/\"+str(allt) +\"  \" + image_path, end=\"\\r\")\n",
    "        time = time +1\n",
    "    print(\"\\nDone!\")\n",
    "    return(ims,image_paths,image_classes)"
   ]
  },
  {
   "cell_type": "code",
   "execution_count": 5,
   "metadata": {},
   "outputs": [],
   "source": [
    "def feature(ims,image_classes):\n",
    "    ims=np.array(ims)\n",
    "    image_classes=np.array(image_classes)\n",
    "    \n",
    "    feature_vector_length=len(ims[0][0])**2\n",
    "    \n",
    "    ims = ims.reshape(ims.shape[0], feature_vector_length)\n",
    "    ims = ims.astype('float32')\n",
    "    ims /= 255\n",
    "    \n",
    "    num_classes=50\n",
    "    image_classes = to_categorical(image_classes, num_classes)\n",
    "    input_shape = (feature_vector_length,)\n",
    "    print(input_shape)\n",
    "    return(ims,image_classes,input_shape,num_classes)\n",
    "\n",
    "def feature1(ims,image_classes):\n",
    "    ims=np.array(ims)\n",
    "    image_classes=np.array(image_classes)\n",
    "    \n",
    "    feature_vector_length=len(ims[0][0])**2\n",
    "    \n",
    "    ims = ims.reshape(ims.shape[0], feature_vector_length)\n",
    "    ims = ims.astype('float32')\n",
    "    ims /= 255\n",
    "    \n",
    "    num_classes=50\n",
    "    image_classes = to_categorical(image_classes, num_classes)\n",
    "    return(ims,image_classes)"
   ]
  },
  {
   "cell_type": "code",
   "execution_count": 6,
   "metadata": {},
   "outputs": [],
   "source": [
    "def trainning1(ims,image_classes,imsval,image_classesval,input_shape,num_classes):\n",
    "    model = Sequential()\n",
    "    model.add(Dense(512, input_shape=input_shape, activation='relu'))\n",
    "    model.add(Dropout(0.2))\n",
    "    model.add(Dense(512, activation='relu'))\n",
    "    model.add(Dropout(0.2))\n",
    "    model.add(Dense(num_classes, activation='softmax'))\n",
    "    \n",
    "    model.compile(loss='categorical_crossentropy', optimizer='adam', metrics=['accuracy'])\n",
    "    \n",
    "    model.fit(ims, image_classes, batch_size=512, epochs=10,validation_split=0.2,verbose=1)\n",
    "    print(model.summary())\n",
    "    return model"
   ]
  },
  {
   "cell_type": "code",
   "execution_count": 7,
   "metadata": {},
   "outputs": [],
   "source": [
    "def result(model,mod,imsval,image_classesval):\n",
    "    score = model.evaluate(imsval,image_classesval, verbose=0)\n",
    "    accuracy = 100 * score[1]\n",
    "    print(mod+\" \"+'val accuracy: %.4f%%' % accuracy)\n",
    "    \n",
    "def result1(model,mod,imsval,image_classesval):\n",
    "    score = model.evaluate(imsval,image_classesval, verbose=0)\n",
    "    accuracy = 100 * score[1]\n",
    "    print(mod+\" \"+'test accuracy: %.4f%%' % accuracy)"
   ]
  },
  {
   "cell_type": "code",
   "execution_count": 8,
   "metadata": {},
   "outputs": [
    {
     "name": "stdout",
     "output_type": "stream",
     "text": [
      "loading images\n",
      "63325/63325  images/n02172182/n02172182_9821.JPEGGG\n",
      "Done!\n",
      "(4096,)\n"
     ]
    }
   ],
   "source": [
    "ims=[]\n",
    "image_paths=[]\n",
    "image_classes=[]\n",
    "ims,image_paths,image_classes=openfile(\"train.txt\")\n",
    "ims,image_classes,input_shape,num_classes=feature(ims,image_classes)"
   ]
  },
  {
   "cell_type": "code",
   "execution_count": 9,
   "metadata": {},
   "outputs": [
    {
     "name": "stdout",
     "output_type": "stream",
     "text": [
      "loading images\n",
      "450/450  images/n02172182/n02172182_9982.JPEG\n",
      "Done!\n"
     ]
    }
   ],
   "source": [
    "imsval=[]\n",
    "image_pathsval=[]\n",
    "image_classesval=[]\n",
    "imsval,image_pathsval,image_classesval=openfile(\"val.txt\")\n",
    "imsval,image_classesval=feature1(imsval,image_classesval)"
   ]
  },
  {
   "cell_type": "code",
   "execution_count": 10,
   "metadata": {},
   "outputs": [
    {
     "name": "stdout",
     "output_type": "stream",
     "text": [
      "loading images\n",
      "450/450  images/n02172182/n02172182_981.JPEGG\n",
      "Done!\n"
     ]
    }
   ],
   "source": [
    "imstest=[]\n",
    "image_pathstest=[]\n",
    "image_classestest=[]\n",
    "imstest,image_pathstest,image_classestest=openfile(\"test.txt\")\n",
    "imstest,image_classestest=feature1(imstest,image_classestest)"
   ]
  },
  {
   "cell_type": "code",
   "execution_count": 11,
   "metadata": {},
   "outputs": [
    {
     "name": "stdout",
     "output_type": "stream",
     "text": [
      "Train on 50660 samples, validate on 12665 samples\n",
      "Epoch 1/10\n",
      "50660/50660 [==============================] - 20s 400us/step - loss: 3.6866 - accuracy: 0.0439 - val_loss: 7.3836 - val_accuracy: 0.0000e+00\n",
      "Epoch 2/10\n",
      "50660/50660 [==============================] - 20s 387us/step - loss: 3.5769 - accuracy: 0.0583 - val_loss: 8.6106 - val_accuracy: 0.0000e+00\n",
      "Epoch 3/10\n",
      "50660/50660 [==============================] - 20s 399us/step - loss: 3.5556 - accuracy: 0.0621 - val_loss: 9.3031 - val_accuracy: 0.0000e+00\n",
      "Epoch 4/10\n",
      "50660/50660 [==============================] - 20s 391us/step - loss: 3.5388 - accuracy: 0.0651 - val_loss: 8.4666 - val_accuracy: 0.0000e+00\n",
      "Epoch 5/10\n",
      "50660/50660 [==============================] - 21s 406us/step - loss: 3.5264 - accuracy: 0.0670 - val_loss: 9.2542 - val_accuracy: 0.0000e+00\n",
      "Epoch 6/10\n",
      "50660/50660 [==============================] - 20s 403us/step - loss: 3.5097 - accuracy: 0.0686 - val_loss: 9.3300 - val_accuracy: 0.0000e+00\n",
      "Epoch 7/10\n",
      "50660/50660 [==============================] - 20s 390us/step - loss: 3.5029 - accuracy: 0.0708 - val_loss: 9.6022 - val_accuracy: 0.0000e+00\n",
      "Epoch 8/10\n",
      "50660/50660 [==============================] - 20s 390us/step - loss: 3.4922 - accuracy: 0.0730 - val_loss: 9.1868 - val_accuracy: 0.0000e+00\n",
      "Epoch 9/10\n",
      "50660/50660 [==============================] - 20s 393us/step - loss: 3.4767 - accuracy: 0.0751 - val_loss: 9.5426 - val_accuracy: 0.0000e+00\n",
      "Epoch 10/10\n",
      "50660/50660 [==============================] - 20s 391us/step - loss: 3.4688 - accuracy: 0.0794 - val_loss: 10.1770 - val_accuracy: 0.0000e+00\n",
      "Model: \"sequential_1\"\n",
      "_________________________________________________________________\n",
      "Layer (type)                 Output Shape              Param #   \n",
      "=================================================================\n",
      "dense_1 (Dense)              (None, 512)               2097664   \n",
      "_________________________________________________________________\n",
      "dropout_1 (Dropout)          (None, 512)               0         \n",
      "_________________________________________________________________\n",
      "dense_2 (Dense)              (None, 512)               262656    \n",
      "_________________________________________________________________\n",
      "dropout_2 (Dropout)          (None, 512)               0         \n",
      "_________________________________________________________________\n",
      "dense_3 (Dense)              (None, 50)                25650     \n",
      "=================================================================\n",
      "Total params: 2,385,970\n",
      "Trainable params: 2,385,970\n",
      "Non-trainable params: 0\n",
      "_________________________________________________________________\n",
      "None\n",
      "relu val accuracy: 7.5556%\n",
      "relu test accuracy: 5.7778%\n"
     ]
    }
   ],
   "source": [
    "model_relu=trainning1(ims,image_classes,imsval,image_classesval,input_shape,num_classes)\n",
    "result(model_relu,\"relu\",imsval,image_classesval)\n",
    "result1(model_relu,\"relu\",imstest,image_classestest)"
   ]
  },
  {
   "cell_type": "code",
   "execution_count": null,
   "metadata": {},
   "outputs": [],
   "source": [
    "0"
   ]
  }
 ],
 "metadata": {
  "kernelspec": {
   "display_name": "Python 3",
   "language": "python",
   "name": "python3"
  },
  "language_info": {
   "codemirror_mode": {
    "name": "ipython",
    "version": 3
   },
   "file_extension": ".py",
   "mimetype": "text/x-python",
   "name": "python",
   "nbconvert_exporter": "python",
   "pygments_lexer": "ipython3",
   "version": "3.7.3"
  }
 },
 "nbformat": 4,
 "nbformat_minor": 2
}
